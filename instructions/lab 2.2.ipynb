{
 "cells": [
  {
   "cell_type": "markdown",
   "metadata": {},
   "source": [
    "# Secure symmetric key encryption\n",
    "\n",
    "Create a copy of the Cryptography class you created in lab 2.1 and modify the encryption and decrpytion methods to use a secure version of the following code:\n",
    "\n",
    "```\n",
    "from cryptography.hazmat.backends import default_backend\n",
    "from cryptography.hazmat.primitives.ciphers import Cipher, algorithms,modes\n",
    "import os\n",
    "import json\n",
    "\n",
    "key =  os.urandom(32)\n",
    "\n",
    "cipher = Cipher(algorithms.AES(key),modes.ECB())\n",
    "\n",
    "encryption_obj = cipher.encryptor()\n",
    "\n",
    "encryption_obj.update(b\"a secret message\") + encryption_obj.finalize()\n",
    "```\n",
    "\n",
    "#### Reading Material\n",
    "\n",
    "Full Stack Python Security - Page 47 - 50\n",
    "https://cryptography.io/en/latest/hazmat/primitives/symmetric-encryption/"
   ]
  }
 ],
 "metadata": {
  "language_info": {
   "name": "python"
  },
  "orig_nbformat": 4
 },
 "nbformat": 4,
 "nbformat_minor": 2
}
