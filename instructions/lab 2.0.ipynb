{
 "cells": [
  {
   "cell_type": "markdown",
   "metadata": {},
   "source": [
    "#### **Task 1: Message authentication with keyed hashing**\n",
    "\n",
    "Create a Flask API with three operations ```get_shared_key()```, ```send()``` and ```verify()```. \n",
    "\n",
    "- get_shared_key() retrieves a key that you generate and store on the file system.\n",
    "- send() accepts a json object and returns the hexademical hash value generated using hmac-sha256 and a shared key\n",
    "- verify() receives a json object and hash value then checks if the json object has changed and if it has been signed with the same key. **HINT:** Make use of the hmac.compare_digest method.\n",
    "\n",
    "#### **Task 2: Securing data using hashlib and cryptography**\n",
    "\n",
    "In this lab exercise, you will create a class that implements different methods for hashing and symmetric key encryption. You will\n",
    "\n",
    "* Start by creating a new class named **Cryptography**\n",
    "* In the class, add and implement the following methods:\n",
    "    > **get_digest:** uses sha256 to hash a message<br/>\n",
    "      **get_checksum:** uses zlib to generate a checksum<br/>\n",
    "      **get_hmac:** uses hmac to generate an hmac digest<br/>\n",
    "      **hmac_equals:** compares two hmac digests in a secure way<br/>\n",
    "      **get_symmetric_token:** generates a token using symmetric key encryption<br/>\n",
    "      **deciper:** uses symmetric key decrpytion to change a token to plaintext<br/>\n",
    "\n",
    "* Write a program that creates an instance of **Cryptography** and show that your methods work"
   ]
  }
 ],
 "metadata": {
  "language_info": {
   "name": "python"
  },
  "orig_nbformat": 4
 },
 "nbformat": 4,
 "nbformat_minor": 2
}
