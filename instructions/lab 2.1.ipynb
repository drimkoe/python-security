{
 "cells": [
  {
   "cell_type": "markdown",
   "metadata": {},
   "source": [
    "## Encrypt & Decrypt files with Fernet\n",
    "\n",
    "Create a class named Cryptography which has the following methods:\n",
    "- ```create_key(self, key_path)```: creates a key and saves it to a disk\n",
    "- ```load_key(self, key_path)```: reads a key from a file\n",
    "- ```encrypt_file(self, key, path_to_plaintext, path_to_ciphertext)```: encrypts a file and saves the ciphertext to disk.\n",
    "- ```decrypt_file(self, key, path_to_ciphertext, decrypted_file_path)```: decrypts a file and saves the plain text to disk.\n",
    "\n",
    "Use your own Cryptography class to encrypt and decrypt a file of your choice.\n",
    "1. What do you think are some of the shortfalls of using symmetric key encryption?\n",
    "2. What would you do if a key is compromised?\n",
    "3. Modify your code to cater for handling compromised keys.\n",
    "4. What would be the best way to share keys?\n",
    "\n",
    "\n",
    "### Reading Material\n",
    "\n",
    "Full Stack Python Security - Page 41"
   ]
  }
 ],
 "metadata": {
  "language_info": {
   "name": "python"
  },
  "orig_nbformat": 4
 },
 "nbformat": 4,
 "nbformat_minor": 2
}
