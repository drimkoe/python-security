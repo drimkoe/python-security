{
 "cells": [
  {
   "cell_type": "markdown",
   "metadata": {},
   "source": [
    "## Nonrepudiation with digital signatures\n",
    "\n",
    "Make a copy of the API you created in Lab 2.3 and following the examples on pages 57 - 59 of the FullStack Python Security book, implement digital signature verification in the API and digital signature creation in the client.\n",
    "\n",
    "Start running the Flask API and test the digital signatures using postman."
   ]
  }
 ],
 "metadata": {
  "language_info": {
   "name": "python"
  },
  "orig_nbformat": 4
 },
 "nbformat": 4,
 "nbformat_minor": 2
}
