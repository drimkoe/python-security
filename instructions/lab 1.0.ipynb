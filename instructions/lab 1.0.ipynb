{
 "cells": [
  {
   "cell_type": "markdown",
   "metadata": {},
   "source": [
    "## Lab 1: Properties of the hash() method\n",
    "\n",
    "Below are some of the properties of the hash() method:\n",
    "- The hash() method only works for immutable objects such as tuple.\n",
    "- hash() internally calls __hash__() method, so any objects can override __hash__() for custom hash values \n",
    "\n",
    "#### Task 1\n",
    "\n",
    "Write a simple script to demonstrate this property by comparing the output for a mutable and immutable collection of vowels.\n",
    "\n",
    "#### Task 2\n",
    "\n",
    "Create a python class of your choice and override the __hash__() method to create a custom hash value for instances of the class.\n",
    "\n",
    "\n"
   ]
  }
 ],
 "metadata": {
  "language_info": {
   "name": "python"
  },
  "orig_nbformat": 4
 },
 "nbformat": 4,
 "nbformat_minor": 2
}
