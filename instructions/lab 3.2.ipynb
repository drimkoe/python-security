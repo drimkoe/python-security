{
 "cells": [
  {
   "cell_type": "markdown",
   "metadata": {},
   "source": [
    "#### Task 1: Create a custom password validator\n",
    "\n",
    "Django defines a password policy using the AUTH_PASSWORD_VALIDATORS setting, you can create a custom password validator and add it as an entry to this setting. The purpose of this validator is to check if a password consist of 3 words and if the words are contained in the password dictionary.\n",
    "\n",
    "> If you cannot find /usr/share/dict/words in your filesystem, run ``sudo apt-get install --reinstall wamerican``\n",
    "\n",
    "* Start by creating a new file named **validators.py** in the profile_info application directory\n",
    "* Create a new class named **PassphraseValidator** using the code below:\n",
    "    > ```python\n",
    "        from django.core.exceptions import ValidationError\n",
    "        from django.utils.translation import gettext_lazy as _\n",
    "\n",
    "        class PassphraseValidator:\n",
    "            def __init__(self, dictionary_file='/usr/share/dict/words'):\n",
    "                self.min_words = 3\n",
    "                with open(dictionary_file) as f: \n",
    "                    self.words = set(word.strip() for word in f) \n",
    "\n",
    "            def get_help_text(self):\n",
    "                return _('Your password must contain %s words' % self.min_words) \n",
    "\n",
    "            def validate(self, password, user=None):\n",
    "                tokens = password.split(' ')\n",
    "                if len(tokens) < self.min_words: \n",
    "                    too_short = _('This password needs %s words' % self.min_words) \n",
    "                    raise ValidationError(too_short, code='too_short') \n",
    "                if not all(token in self.words for token in tokens): \n",
    "                    not_passphrase = _('This password is not a passphrase') \n",
    "                    raise ValidationError(not_passphrase, code='not_passphrase')\n",
    "    ```\n",
    "\n",
    "* Open **settings.py** and add the following entry to the AUTH_PASSWORD_VALIDATORS list:\n",
    "    > ```python\n",
    "        {\n",
    "            'NAME': 'profile_info.validators.PassphraseValidator'\n",
    "        }\n",
    "\n",
    "    ```\n",
    "\n",
    "* Restart the Django server and navigate to https://localhost:8000/accounts/password_change\n",
    "* Notice the additional password requirement. **Your password must contain 3 words**"
   ]
  },
  {
   "cell_type": "markdown",
   "metadata": {},
   "source": [
    "#### Task 2: Creating a custom password hasher\n",
    "\n",
    "Django uses Password-Based Key Derivation Function 2 (PBKDF2) to hash passwords. PBKDF2 has a configurable iteration count and hash algorithm. In this task, you will create custom password hasher that doubles the iteration count for PBKDF2.\n",
    "\n",
    "* In the profile_info application directory, add a new file named **hashers.py**\n",
    "* Open hashers.py and add the code below:\n",
    "    >```python\n",
    "        from django.contrib.auth.hashers import PBKDF2PasswordHasher\n",
    "        \n",
    "        class TwoFoldPBKDF2PasswordHasher(PBKDF2PasswordHasher):\n",
    "            iterations = PBKDF2PasswordHasher.iterations * 2 \n",
    "    ```"
   ]
  }
 ],
 "metadata": {
  "language_info": {
   "name": "python"
  },
  "orig_nbformat": 4
 },
 "nbformat": 4,
 "nbformat_minor": 2
}
