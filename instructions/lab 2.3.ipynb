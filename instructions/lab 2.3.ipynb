{
 "cells": [
  {
   "cell_type": "markdown",
   "metadata": {},
   "source": [
    "## Asymmetric encryption using a REST API\n",
    "\n",
    "In this lab exercise, you will create an API that allows a client to get a public-key from a server and use it to encrypt a message.\n",
    "\n",
    "Start by generating a key-pair using either the cryptography module or openssl and save the PEM files for both the public and private keys.\n",
    "\n",
    "The client then sends the ciphertext to the server which decrypts the message and saves it to a file.\n",
    "\n",
    "HINT: Use the Flask API to quickly develop an API and follow the examples on pages 54 – 56 to implement your operations for:\n",
    "Key generation\n",
    "Encryption\n",
    "Decryption\n",
    "\n",
    "The client can be a simple python script or notebook that uses the python requests module. (https://www.nylas.com/blog/use-python-requests-module-rest-apis/)\n",
    "\n",
    "You must convert the ciphertext to a hex string then send it to the server as a json object for example ```{\"data\":ciphertext_hex_string}```\n",
    "\n",
    "To build the API, install the ```flask``` package and use the following code as a starting point for the api.py file:\n",
    "\n",
    "```python\n",
    "from flask import Flask, request, jsonify, send_file\n",
    "\n",
    "app = Flask(__name__)\n",
    "app.config[\"DEBUG\"] = True\n",
    "\n",
    "\n",
    "@app.route('/get-public-key', methods=['GET'])\n",
    "def get_public_key():\n",
    "    #Read the public key from the disk and return it to the client\n",
    "    #For windows you need to use drive name [ex: F:/public_key.pem]\n",
    "    #The file needs to be in the same directory as the API script\n",
    "    path = \"/public_key.pem\"\n",
    "    return send_file(path, as_attachment=True)\n",
    "\n",
    "@app.route('/save-message', methods=['POST'])\n",
    "def save_message():\n",
    "    message = request.get_json()\n",
    "    ciphertext = bytes.fromhex(message)\n",
    "\n",
    "    #Complete the code to decrypt the message and save it to the disk\n",
    "\n",
    "\n",
    "app.run()\n",
    "```\n",
    "\n",
    "To start the API, run python api.py and use Postman to test the API at http://127.0.0.1:5000\n",
    "if you don't have Postman installed, you can download it here https://www.postman.com/downloads/ \n",
    "\n"
   ]
  }
 ],
 "metadata": {
  "language_info": {
   "name": "python"
  },
  "orig_nbformat": 4
 },
 "nbformat": 4,
 "nbformat_minor": 2
}
