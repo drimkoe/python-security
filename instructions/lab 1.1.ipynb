{
 "cells": [
  {
   "cell_type": "markdown",
   "metadata": {},
   "source": [
    "#### **Task 1: Show MD5 collission**\n",
    "\n",
    "Given two hexadecimal strings:\n",
    "\n",
    "0e306561559aa787d00bc6f70bbdfe3404cf03659e704f8534c00ffb659c4c8740cc942feb2da115a3f4155cbb8607497386656d7d1f34a42059d78f5a8dd1ef\n",
    "\n",
    "and \n",
    "\n",
    "0e306561559aa787d00bc6f70bbdfe3404cf03659e744f8534c00ffb659c4c8740cc942feb2da115a3f415dcbb8607497386656d7d1f34a42059d78f5a8dd1ef\n",
    "\n",
    "Show that MD5 hashes to the same digest in python\n",
    "\n",
    "#### **Task 2: Iteratively call hash.update()**\n",
    "\n",
    "Given a list of words ```['This ','is ','the ','lion ','that ','leads ','the ','pride.']``` use ```hash.update()``` to show how you can iteratively call it and produce a hash value that is exactly the same has hashing the string ```'This is the lion that leads the pride.'```\n",
    "\n",
    "\n",
    "#### **Task 3: Message integrity with hashing**\n",
    "\n",
    "Create two functions ```send(message)``` that returns a tuple with the message and the hash value and a function ```receive(message)``` that recalculates the hash value of the message and compares it with the one sent along with the message. The receive method must throw a security exception if the hash values do not match.\n"
   ]
  }
 ],
 "metadata": {
  "language_info": {
   "name": "python"
  },
  "orig_nbformat": 4
 },
 "nbformat": 4,
 "nbformat_minor": 2
}
