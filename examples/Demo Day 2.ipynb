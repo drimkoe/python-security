{
 "cells": [
  {
   "cell_type": "code",
   "execution_count": null,
   "metadata": {},
   "outputs": [],
   "source": [
    "import sys\n",
    "\n",
    "message = 'Hello'\n",
    "items = tuple([\"Name\",\"Ishe Doro\",\"Course\",\"Python Security\",\"Hours\",10])\n",
    "\n",
    "print(\"Size of message: \", sys.getsizeof(message))\n",
    "print(\"Size of message: \", sys.getsizeof(items))"
   ]
  },
  {
   "cell_type": "code",
   "execution_count": null,
   "metadata": {},
   "outputs": [],
   "source": [
    "print(\"Size of message hash: \", sys.getsizeof(hash(message)))\n",
    "print(\"Size of list hash: \", sys.getsizeof(hash(items)))"
   ]
  },
  {
   "cell_type": "code",
   "execution_count": null,
   "metadata": {},
   "outputs": [],
   "source": [
    "class MyData:\n",
    "\n",
    "    def __hash__(self):\n",
    "        # Implement hash value generation"
   ]
  },
  {
   "cell_type": "code",
   "execution_count": null,
   "metadata": {},
   "outputs": [],
   "source": [
    "# AVALANCHE EFFECT\n",
    "print(abs(int(hex(0X02),16) - int(hex(0X03),16))) # Small diff\n",
    "print(abs(hash(hex(0X02)) - hash(hex(0X03)))) # Large diff in hash value"
   ]
  },
  {
   "cell_type": "code",
   "execution_count": null,
   "metadata": {},
   "outputs": [],
   "source": [
    "class MyItem:\n",
    "\n",
    "    def __init__(self,name):\n",
    "        self.name = name\n",
    "    \n",
    "    def __hash__(self):\n",
    "        return hash(self.name)"
   ]
  },
  {
   "cell_type": "code",
   "execution_count": null,
   "metadata": {},
   "outputs": [],
   "source": [
    "item = MyItem(\"Ishe\")\n",
    "item2 = MyItem(\"Ishe Doro\")\n",
    "hash(item) == hash(item2)"
   ]
  },
  {
   "cell_type": "code",
   "execution_count": null,
   "metadata": {},
   "outputs": [],
   "source": [
    "print(hash(-1))\n",
    "print(hash(-2))"
   ]
  },
  {
   "cell_type": "code",
   "execution_count": null,
   "metadata": {},
   "outputs": [],
   "source": [
    "# HASHLIB\n",
    "\n",
    "#Named constructor\n",
    "import hashlib\n",
    "import json\n",
    "from hashlib import sha256\n",
    "\n",
    "data = str.encode(json.dumps([{\"Val\":x, \"Val Squared\":x**2} for x in range(10)]))\n",
    "sha256_obj = sha256()\n",
    "sha256_obj_1 = sha256(bytes(data))\n",
    "\n",
    "#Generic constructor\n",
    "# Secure context\n",
    "sha256_obj_generic = hashlib.new(\"sha256\",bytes(data)) \n",
    "# Non-secure\n",
    "sha256_obj_generic_nonsecure = hashlib.new(\"sha256\",usedforsecurity=False) "
   ]
  },
  {
   "cell_type": "code",
   "execution_count": null,
   "metadata": {},
   "outputs": [],
   "source": [
    "# Secure Hash As Bytes\n",
    "sha256_obj_1.digest()"
   ]
  },
  {
   "cell_type": "code",
   "execution_count": null,
   "metadata": {},
   "outputs": [],
   "source": [
    "# Secure Hash As Hexadecimal\n",
    "sha256_obj_1.hexdigest()"
   ]
  },
  {
   "cell_type": "code",
   "execution_count": null,
   "metadata": {},
   "outputs": [],
   "source": [
    "hash(\"Hello World\")"
   ]
  },
  {
   "cell_type": "code",
   "execution_count": null,
   "metadata": {},
   "outputs": [],
   "source": [
    "message =\"Hello World\"\n",
    "sha256_obj.update(str.encode(message))\n",
    "sha256_obj.hexdigest()"
   ]
  },
  {
   "cell_type": "code",
   "execution_count": null,
   "metadata": {},
   "outputs": [],
   "source": [
    "message =\"Hello World\"\n",
    "sha256_obj.update(str.encode(message)) #update is called incrementally\n",
    "sha256_obj.hexdigest() # Recomputes the secure hash for the concantenated message"
   ]
  },
  {
   "cell_type": "code",
   "execution_count": null,
   "metadata": {},
   "outputs": [],
   "source": [
    "sha256(str.encode(message)).hexdigest()"
   ]
  },
  {
   "cell_type": "code",
   "execution_count": null,
   "metadata": {},
   "outputs": [],
   "source": [
    "# Incremental use of update\n",
    "message_list =[\"Hello\",\" \",\"World\"]\n",
    "sha256_obj_a = sha256()\n",
    "for m in message_list:\n",
    "    sha256_obj_a.update(str.encode(m))\n",
    "sha256_obj.hexdigest()"
   ]
  },
  {
   "cell_type": "code",
   "execution_count": null,
   "metadata": {},
   "outputs": [],
   "source": [
    "from hmac import compare_digest\n",
    "def generate(data):\n",
    "    # Incremental use of update\n",
    "    sha256_obj = sha256(str.encode(data))\n",
    "    return {\"Data\":data, \"Hash\":sha256_obj.hexdigest()}\n",
    "\n",
    "def verify(message):\n",
    "    data, secure_hash = message\n",
    "    sha256_obj = sha256(message[\"Data\"])\n",
    "    if compare_digest(sha256_obj.hexdigest(),secure_hash):\n",
    "        print(\"Message okay\")\n",
    "    else:\n",
    "        print(\"Message corrupted\")"
   ]
  },
  {
   "cell_type": "code",
   "execution_count": null,
   "metadata": {},
   "outputs": [],
   "source": [
    "message = generate(\"This is a test message\")\n",
    "verify(json.dumps(message))"
   ]
  },
  {
   "cell_type": "code",
   "execution_count": null,
   "metadata": {},
   "outputs": [],
   "source": [
    "hashlib.algorithms_guaranteed"
   ]
  },
  {
   "cell_type": "code",
   "execution_count": null,
   "metadata": {},
   "outputs": [],
   "source": [
    "len(hashlib.algorithms_available)"
   ]
  },
  {
   "cell_type": "code",
   "execution_count": null,
   "metadata": {},
   "outputs": [],
   "source": [
    "'AAAAAAAAAAAAAB7849' # Hexadecimal 16 possible 0 - 9 A - F\n",
    "'AA0000000000000000' # N bytes long"
   ]
  },
  {
   "cell_type": "code",
   "execution_count": null,
   "metadata": {},
   "outputs": [],
   "source": [
    "import secrets\n",
    "from cryptography.hazmat.primitives.ciphers import Cipher, algorithms, modes\n",
    "\n",
    "key = secrets.token_bytes(32)\n",
    "\n",
    "cipher = Cipher(algorithms.AES(key),modes.ECB())\n",
    "\n",
    "# encryption CipherContext instance\n",
    "def encrypt_ecb(data):\n",
    "    encryptor = cipher.encryptor()\n",
    "    return encryptor.update(data) + encryptor.finalize()\n",
    "\n",
    "# decrypt CipherContext instance\n",
    "def encrypt_ecb(data):\n",
    "    decryptor = cipher.decryptor()\n",
    "    return decryptor.update(data) + decryptor.finalize()"
   ]
  },
  {
   "cell_type": "code",
   "execution_count": null,
   "metadata": {},
   "outputs": [],
   "source": [
    "import os\n",
    "# Cipher Block Chaining Mode\n",
    "def encrypt(data):\n",
    "    iv = secrets.token_bytes(16)\n",
    "    cipher = Cipher(algorithms.AES(key),modes.CBC(iv))\n",
    "    encryptor = cipher.encryptor()\n",
    "    return (encryptor.update(data) + encryptor.finalize(),iv)\n",
    "\n",
    "def decrypt(ciphertext):\n",
    "    ct,iv = ciphertext\n",
    "    cipher = Cipher(algorithms.AES(key),modes.CBC(iv))\n",
    "    decryptor = cipher.decryptor()\n",
    "    return (decryptor.update(ct) + decryptor.finalize(),iv)"
   ]
  },
  {
   "cell_type": "code",
   "execution_count": null,
   "metadata": {},
   "outputs": [],
   "source": [
    "from cryptography.hazmat.primitives import padding\n",
    "\n",
    "padder = padding.PKCS7(128).padder()\n",
    "message = padder.update(b\"Hello there\") + padder.finalize()\n",
    "ciphertext_1 = encrypt(message)\n",
    "ciphertext_2 = encrypt(message)\n",
    "print(ciphertext_1)\n",
    "print(ciphertext_2)"
   ]
  },
  {
   "cell_type": "code",
   "execution_count": null,
   "metadata": {},
   "outputs": [],
   "source": [
    "message"
   ]
  },
  {
   "cell_type": "code",
   "execution_count": null,
   "metadata": {},
   "outputs": [],
   "source": [
    "# Galois Counter Mode (GCM) - Emulate a stream cipher\n",
    "\n",
    "def authenticated_encrypt_gcm(plaintext,associated_data):\n",
    "    iv = secrets.token_bytes(10)\n",
    "    encryptor = Cipher(algorithms.AES(key),modes.GCM(iv)).encryptor()\n",
    "    encryptor.authenticate_additional_data(associated_data)\n",
    "    ciphertext = encryptor.update(plaintext) + encryptor.finalize()\n",
    "    return (iv, ciphertext,encryptor.tag)\n",
    "\n",
    "def decrypt_with_gcm(token,associated_data):\n",
    "    iv, ciphertext,tag = token\n",
    "    decryptor = Cipher(algorithms.AES(key),modes.GCM(iv,tag)).decryptor()\n",
    "    decryptor.authenticate_additional_data(associated_data)\n",
    "    return decryptor.update(ciphertext) + decryptor.finalize()\n",
    "    "
   ]
  },
  {
   "cell_type": "code",
   "execution_count": null,
   "metadata": {},
   "outputs": [],
   "source": [
    "ciphertext,iv = encrypt(message)"
   ]
  },
  {
   "cell_type": "code",
   "execution_count": null,
   "metadata": {},
   "outputs": [],
   "source": [
    "cipher_file = open('cipher_file.tk','w')\n",
    "cipher_file.writelines(ciphertext.hex() + \" - \" + iv.hex())\n",
    "cipher_file.close()"
   ]
  },
  {
   "cell_type": "code",
   "execution_count": null,
   "metadata": {},
   "outputs": [],
   "source": [
    "cipher_file = open('cipher_file.tk','r')\n",
    "token = cipher_file.readline()\n",
    "cipher_file.close()"
   ]
  },
  {
   "cell_type": "code",
   "execution_count": null,
   "metadata": {},
   "outputs": [],
   "source": [
    "token.split(' - ')"
   ]
  },
  {
   "cell_type": "code",
   "execution_count": null,
   "metadata": {},
   "outputs": [],
   "source": [
    "# RSA KEY GENERATION\n",
    "from cryptography.hazmat.primitives import serialization\n",
    "from cryptography.hazmat.primitives.asymmetric import rsa\n",
    "\n",
    "private_key = rsa.generate_private_key(public_exponent=65537,key_size=3072)\n",
    "public_key = private_key.public_key()"
   ]
  },
  {
   "cell_type": "code",
   "execution_count": null,
   "metadata": {},
   "outputs": [],
   "source": [
    "private_bytes = private_key.private_bytes(encoding=serialization.Encoding.PEM,\n",
    "format=serialization.PrivateFormat.PKCS8,encryption_algorithm=serialization.NoEncryption())\n",
    "\n",
    "with open('my_private_key.pem','wb') as private_key_file:\n",
    "    private_key_file.write(private_bytes)\n",
    "\n",
    "\n"
   ]
  },
  {
   "cell_type": "code",
   "execution_count": null,
   "metadata": {},
   "outputs": [],
   "source": [
    "public_bytes = public_key.public_bytes(encoding=serialization.Encoding.PEM,\n",
    "format=serialization.PublicFormat.SubjectPublicKeyInfo)\n",
    "\n",
    "with open('public_key_file.pem','wb') as public_key_file:\n",
    "    public_key_file.write(public_bytes)"
   ]
  },
  {
   "cell_type": "code",
   "execution_count": 3,
   "metadata": {},
   "outputs": [],
   "source": [
    "from cryptography.hazmat.primitives import serialization\n",
    "\n",
    "def load_key(is_private=True):\n",
    "    if is_private:\n",
    "        with open('my_private_key.pem','rb') as my_private_key:\n",
    "            return serialization.load_pem_private_key(my_private_key.read(),password=None)\n",
    "    else:\n",
    "        with open('public_key_file.pem','rb') as public_key_file:\n",
    "            return serialization.load_pem_public_key(public_key_file.read())"
   ]
  },
  {
   "cell_type": "code",
   "execution_count": null,
   "metadata": {},
   "outputs": [],
   "source": [
    "# RSA Encryption\n",
    "# OAEP - Optional asymmetric encryption padding\n",
    "from cryptography.hazmat.primitives import hashes\n",
    "from cryptography.hazmat.primitives.asymmetric import padding\n",
    "\n",
    "padding_config = padding.OAEP(mgf=padding.MGF1(algorithm=hashes.SHA256()),algorithm=hashes.SHA256(),label=None)\n",
    "public_key_from_disk = load_key(False)\n",
    "ciphertext = public_key_from_disk.encrypt(plaintext=b\"Sample data\",padding=padding_config)"
   ]
  },
  {
   "cell_type": "code",
   "execution_count": null,
   "metadata": {},
   "outputs": [],
   "source": [
    "ciphertext"
   ]
  },
  {
   "cell_type": "code",
   "execution_count": null,
   "metadata": {},
   "outputs": [],
   "source": [
    "# Decrypt with private key\n",
    "load_key().decrypt(ciphertext=ciphertext,padding=padding_config)"
   ]
  },
  {
   "cell_type": "code",
   "execution_count": 14,
   "metadata": {},
   "outputs": [],
   "source": [
    "# RSA Digital Signature\n",
    "from cryptography.hazmat.primitives.asymmetric import padding\n",
    "from cryptography.hazmat.primitives import hashes\n",
    "import json\n",
    "\n",
    "message = bytes([x for x in range(1,6)])\n",
    "\n",
    "padding_config = padding.PSS(mgf=padding.MGF1(algorithm=hashes.SHA256()),salt_length=padding.PSS.MAX_LENGTH)\n",
    "signature = load_key().sign(message,padding_config,hashes.SHA256())\n",
    "signed_message = {\n",
    "    'message' : message,\n",
    "    'signature' : signature\n",
    "}"
   ]
  },
  {
   "cell_type": "code",
   "execution_count": 15,
   "metadata": {},
   "outputs": [],
   "source": [
    "from cryptography.exceptions import InvalidSignature\n",
    "def verify(data):\n",
    "    message = data['message'] \n",
    "    signature = data['signature']\n",
    "    public_key = load_key().public_key()\n",
    "\n",
    "    try:\n",
    "        public_key.verify(signature,message,padding_config,hashes.SHA256())\n",
    "        print(\"Trusted message and source\")\n",
    "    except InvalidSignature:\n",
    "        print(\"Untrustworthy source\")\n"
   ]
  },
  {
   "cell_type": "code",
   "execution_count": 16,
   "metadata": {},
   "outputs": [
    {
     "name": "stdout",
     "output_type": "stream",
     "text": [
      "Trusted message and source\n"
     ]
    }
   ],
   "source": [
    "verify(signed_message)"
   ]
  },
  {
   "cell_type": "code",
   "execution_count": null,
   "metadata": {},
   "outputs": [],
   "source": [
    "# ECDSA vs RSA\n",
    "# private <--> public vice versa\n",
    "# Very fast for signing data\n",
    "\n",
    "# 256 bits vs 2048 bit RSA key"
   ]
  },
  {
   "cell_type": "code",
   "execution_count": 18,
   "metadata": {},
   "outputs": [],
   "source": [
    "from cryptography.hazmat.primitives.asymmetric import ec\n",
    "\n",
    "ec_private_key = ec.generate_private_key(ec.SECP384R1())\n",
    "signature = ec_private_key.sign(b\"Data\",ec.ECDSA(hashes.SHA256()))"
   ]
  },
  {
   "cell_type": "code",
   "execution_count": 22,
   "metadata": {},
   "outputs": [
    {
     "name": "stdout",
     "output_type": "stream",
     "text": [
      "Untrustworthy data\n"
     ]
    }
   ],
   "source": [
    "try:\n",
    "    ec_private_key.public_key().verify(signature,b\"Data M\",ec.ECDSA(hashes.SHA256()))\n",
    "except InvalidSignature:\n",
    "    print(\"Untrustworthy data\")"
   ]
  }
 ],
 "metadata": {
  "kernelspec": {
   "display_name": "Python 3.10.2 64-bit",
   "language": "python",
   "name": "python3"
  },
  "language_info": {
   "codemirror_mode": {
    "name": "ipython",
    "version": 3
   },
   "file_extension": ".py",
   "mimetype": "text/x-python",
   "name": "python",
   "nbconvert_exporter": "python",
   "pygments_lexer": "ipython3",
   "version": "3.10.2"
  },
  "orig_nbformat": 4,
  "vscode": {
   "interpreter": {
    "hash": "8ef4f7d30ada8ac0734772085998dc737c9d06b351fea519132b7e10080fcd18"
   }
  }
 },
 "nbformat": 4,
 "nbformat_minor": 2
}
