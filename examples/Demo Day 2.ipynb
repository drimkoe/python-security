{
 "cells": [
  {
   "cell_type": "code",
   "execution_count": 6,
   "metadata": {},
   "outputs": [
    {
     "name": "stdout",
     "output_type": "stream",
     "text": [
      "Size of message:  54\n",
      "Size of message:  88\n"
     ]
    }
   ],
   "source": [
    "import sys\n",
    "\n",
    "message = 'Hello'\n",
    "items = tuple([\"Name\",\"Ishe Doro\",\"Course\",\"Python Security\",\"Hours\",10])\n",
    "\n",
    "print(\"Size of message: \", sys.getsizeof(message))\n",
    "print(\"Size of message: \", sys.getsizeof(items))"
   ]
  },
  {
   "cell_type": "code",
   "execution_count": 7,
   "metadata": {},
   "outputs": [
    {
     "name": "stdout",
     "output_type": "stream",
     "text": [
      "Size of message hash:  36\n",
      "Size of list hash:  36\n"
     ]
    }
   ],
   "source": [
    "print(\"Size of message hash: \", sys.getsizeof(hash(message)))\n",
    "print(\"Size of list hash: \", sys.getsizeof(hash(items)))"
   ]
  },
  {
   "cell_type": "code",
   "execution_count": 38,
   "metadata": {},
   "outputs": [
    {
     "data": {
      "text/plain": [
       "-4832963481255929395"
      ]
     },
     "execution_count": 38,
     "metadata": {},
     "output_type": "execute_result"
    }
   ],
   "source": [
    "class MyData:\n",
    "\n",
    "    def __hash__(self):\n",
    "        # Implement hash value generation"
   ]
  },
  {
   "cell_type": "code",
   "execution_count": 20,
   "metadata": {},
   "outputs": [
    {
     "name": "stdout",
     "output_type": "stream",
     "text": [
      "1\n",
      "4997587774213171717\n"
     ]
    }
   ],
   "source": [
    "# AVALANCHE EFFECT\n",
    "print(abs(int(hex(0X02),16) - int(hex(0X03),16))) # Small diff\n",
    "print(abs(hash(hex(0X02)) - hash(hex(0X03)))) # Large diff in hash value"
   ]
  },
  {
   "cell_type": "code",
   "execution_count": 31,
   "metadata": {},
   "outputs": [],
   "source": [
    "class MyItem:\n",
    "\n",
    "    def __init__(self,name):\n",
    "        self.name = name\n",
    "    \n",
    "    def __hash__(self):\n",
    "        return hash(self.name)"
   ]
  },
  {
   "cell_type": "code",
   "execution_count": 33,
   "metadata": {},
   "outputs": [
    {
     "data": {
      "text/plain": [
       "False"
      ]
     },
     "execution_count": 33,
     "metadata": {},
     "output_type": "execute_result"
    }
   ],
   "source": [
    "item = MyItem(\"Ishe\")\n",
    "item2 = MyItem(\"Ishe Doro\")\n",
    "hash(item) == hash(item2)"
   ]
  },
  {
   "cell_type": "code",
   "execution_count": 42,
   "metadata": {},
   "outputs": [
    {
     "name": "stdout",
     "output_type": "stream",
     "text": [
      "-2\n",
      "-2\n"
     ]
    }
   ],
   "source": [
    "print(hash(-1))\n",
    "print(hash(-2))"
   ]
  },
  {
   "cell_type": "code",
   "execution_count": 45,
   "metadata": {},
   "outputs": [],
   "source": [
    "# HASHLIB\n",
    "\n",
    "#Named constructor\n",
    "import hashlib\n",
    "import json\n",
    "from hashlib import sha256\n",
    "\n",
    "data = str.encode(json.dumps([{\"Val\":x, \"Val Squared\":x**2} for x in range(10)]))\n",
    "sha256_obj = sha256()\n",
    "sha256_obj_1 = sha256(bytes(data))\n",
    "\n",
    "#Generic constructor\n",
    "# Secure context\n",
    "sha256_obj_generic = hashlib.new(\"sha256\",bytes(data)) \n",
    "# Non-secure\n",
    "sha256_obj_generic_nonsecure = hashlib.new(\"sha256\",usedforsecurity=False) "
   ]
  },
  {
   "cell_type": "code",
   "execution_count": 47,
   "metadata": {},
   "outputs": [
    {
     "data": {
      "text/plain": [
       "b'OX\\x07\\xcd\\xa7\\x11\\xcb\\t\\x0c\\xc1\\xb1\\xcf\\xc8FZ\\xbe\\xe9\\xe3x\\xb1\\xaf\\xf7\\xbby\\x13\\xd8\\x02\\x8ccM\\xe0*'"
      ]
     },
     "execution_count": 47,
     "metadata": {},
     "output_type": "execute_result"
    }
   ],
   "source": [
    "# Secure Hash As Bytes\n",
    "sha256_obj_1.digest()"
   ]
  },
  {
   "cell_type": "code",
   "execution_count": 48,
   "metadata": {},
   "outputs": [
    {
     "data": {
      "text/plain": [
       "'4f5807cda711cb090cc1b1cfc8465abee9e378b1aff7bb7913d8028c634de02a'"
      ]
     },
     "execution_count": 48,
     "metadata": {},
     "output_type": "execute_result"
    }
   ],
   "source": [
    "# Secure Hash As Hexadecimal\n",
    "sha256_obj_1.hexdigest()"
   ]
  },
  {
   "cell_type": "code",
   "execution_count": 101,
   "metadata": {},
   "outputs": [
    {
     "data": {
      "text/plain": [
       "5215509115238438366"
      ]
     },
     "execution_count": 101,
     "metadata": {},
     "output_type": "execute_result"
    }
   ],
   "source": [
    "hash(\"Hello World\")"
   ]
  },
  {
   "cell_type": "code",
   "execution_count": 107,
   "metadata": {},
   "outputs": [
    {
     "data": {
      "text/plain": [
       "'84aa7efe7a1e4c14b31adf2fe6960f2d3ea5de6dbdd8c31a291f9084f0544b27'"
      ]
     },
     "execution_count": 107,
     "metadata": {},
     "output_type": "execute_result"
    }
   ],
   "source": [
    "message =\"Hello World\"\n",
    "sha256_obj.update(str.encode(message))\n",
    "sha256_obj.hexdigest()"
   ]
  },
  {
   "cell_type": "code",
   "execution_count": 122,
   "metadata": {},
   "outputs": [
    {
     "data": {
      "text/plain": [
       "'5244bdb0c035bf793d3b094bf314699514e23caa623217cc601a4981c79fd1ae'"
      ]
     },
     "execution_count": 122,
     "metadata": {},
     "output_type": "execute_result"
    }
   ],
   "source": [
    "message =\"Hello World\"\n",
    "sha256_obj.update(str.encode(message)) #update is called incrementally\n",
    "sha256_obj.hexdigest() # Recomputes the secure hash for the concantenated message"
   ]
  },
  {
   "cell_type": "code",
   "execution_count": 121,
   "metadata": {},
   "outputs": [
    {
     "data": {
      "text/plain": [
       "'a591a6d40bf420404a011733cfb7b190d62c65bf0bcda32b57b277d9ad9f146e'"
      ]
     },
     "execution_count": 121,
     "metadata": {},
     "output_type": "execute_result"
    }
   ],
   "source": [
    "sha256(str.encode(message)).hexdigest()"
   ]
  },
  {
   "cell_type": "code",
   "execution_count": 90,
   "metadata": {},
   "outputs": [
    {
     "data": {
      "text/plain": [
       "'5f7b224bf9b54877b3aa3a9b36c38b9c26e9746e418f878f8ca224c144d53fe6'"
      ]
     },
     "execution_count": 90,
     "metadata": {},
     "output_type": "execute_result"
    }
   ],
   "source": [
    "# Incremental use of update\n",
    "message_list =[\"Hello\",\" \",\"World\"]\n",
    "sha256_obj_a = sha256()\n",
    "for m in message_list:\n",
    "    sha256_obj_a.update(str.encode(m))\n",
    "sha256_obj.hexdigest()"
   ]
  },
  {
   "cell_type": "code",
   "execution_count": 127,
   "metadata": {},
   "outputs": [],
   "source": [
    "from hmac import compare_digest\n",
    "def generate(data):\n",
    "    # Incremental use of update\n",
    "    sha256_obj = sha256(str.encode(data))\n",
    "    return {\"Data\":data, \"Hash\":sha256_obj.hexdigest()}\n",
    "\n",
    "def verify(message):\n",
    "    data, secure_hash = message\n",
    "    sha256_obj = sha256(message[\"Data\"])\n",
    "    if compare_digest(sha256_obj.hexdigest(),secure_hash):\n",
    "        print(\"Message okay\")\n",
    "    else:\n",
    "        print(\"Message corrupted\")"
   ]
  },
  {
   "cell_type": "code",
   "execution_count": 129,
   "metadata": {},
   "outputs": [
    {
     "ename": "ValueError",
     "evalue": "too many values to unpack (expected 2)",
     "output_type": "error",
     "traceback": [
      "\u001b[1;31m---------------------------------------------------------------------------\u001b[0m",
      "\u001b[1;31mValueError\u001b[0m                                Traceback (most recent call last)",
      "\u001b[1;32mc:\\Users\\ishea\\Documents\\Training\\Python\\ClassDemos\\demos.ipynb Cell 17'\u001b[0m in \u001b[0;36m<cell line: 2>\u001b[1;34m()\u001b[0m\n\u001b[0;32m      <a href='vscode-notebook-cell:/c%3A/Users/ishea/Documents/Training/Python/ClassDemos/demos.ipynb#ch0000014?line=0'>1</a>\u001b[0m message \u001b[39m=\u001b[39m generate(\u001b[39m\"\u001b[39m\u001b[39mThis is a test message\u001b[39m\u001b[39m\"\u001b[39m)\n\u001b[1;32m----> <a href='vscode-notebook-cell:/c%3A/Users/ishea/Documents/Training/Python/ClassDemos/demos.ipynb#ch0000014?line=1'>2</a>\u001b[0m verify(json\u001b[39m.\u001b[39;49mdumps(message))\n",
      "\u001b[1;32mc:\\Users\\ishea\\Documents\\Training\\Python\\ClassDemos\\demos.ipynb Cell 16'\u001b[0m in \u001b[0;36mverify\u001b[1;34m(message)\u001b[0m\n\u001b[0;32m      <a href='vscode-notebook-cell:/c%3A/Users/ishea/Documents/Training/Python/ClassDemos/demos.ipynb#ch0000013?line=6'>7</a>\u001b[0m \u001b[39mdef\u001b[39;00m \u001b[39mverify\u001b[39m(message):\n\u001b[1;32m----> <a href='vscode-notebook-cell:/c%3A/Users/ishea/Documents/Training/Python/ClassDemos/demos.ipynb#ch0000013?line=7'>8</a>\u001b[0m     data, secure_hash \u001b[39m=\u001b[39m message\n\u001b[0;32m      <a href='vscode-notebook-cell:/c%3A/Users/ishea/Documents/Training/Python/ClassDemos/demos.ipynb#ch0000013?line=8'>9</a>\u001b[0m     sha256_obj \u001b[39m=\u001b[39m sha256(data)\n\u001b[0;32m     <a href='vscode-notebook-cell:/c%3A/Users/ishea/Documents/Training/Python/ClassDemos/demos.ipynb#ch0000013?line=9'>10</a>\u001b[0m     \u001b[39mif\u001b[39;00m compare_digest(sha256_obj\u001b[39m.\u001b[39mhexdigest(),secure_hash):\n",
      "\u001b[1;31mValueError\u001b[0m: too many values to unpack (expected 2)"
     ]
    }
   ],
   "source": [
    "message = generate(\"This is a test message\")\n",
    "verify(json.dumps(message))"
   ]
  },
  {
   "cell_type": "code",
   "execution_count": 126,
   "metadata": {},
   "outputs": [
    {
     "data": {
      "text/plain": [
       "{'blake2b',\n",
       " 'blake2s',\n",
       " 'md5',\n",
       " 'sha1',\n",
       " 'sha224',\n",
       " 'sha256',\n",
       " 'sha384',\n",
       " 'sha3_224',\n",
       " 'sha3_256',\n",
       " 'sha3_384',\n",
       " 'sha3_512',\n",
       " 'sha512',\n",
       " 'shake_128',\n",
       " 'shake_256'}"
      ]
     },
     "execution_count": 126,
     "metadata": {},
     "output_type": "execute_result"
    }
   ],
   "source": [
    "hashlib.algorithms_guaranteed"
   ]
  },
  {
   "cell_type": "code",
   "execution_count": 125,
   "metadata": {},
   "outputs": [
    {
     "data": {
      "text/plain": [
       "22"
      ]
     },
     "execution_count": 125,
     "metadata": {},
     "output_type": "execute_result"
    }
   ],
   "source": [
    "len(hashlib.algorithms_available)"
   ]
  },
  {
   "cell_type": "code",
   "execution_count": null,
   "metadata": {},
   "outputs": [],
   "source": [
    "'AAAAAAAAAAAAAB7849' # Hexadecimal 16 possible 0 - 9 A - F\n",
    "'AA0000000000000000' # N bytes long"
   ]
  },
  {
   "cell_type": "code",
   "execution_count": 5,
   "metadata": {},
   "outputs": [],
   "source": [
    "import secrets\n",
    "from cryptography.hazmat.primitives.ciphers import Cipher, algorithms, modes\n",
    "\n",
    "key = secrets.token_bytes(32)\n",
    "\n",
    "cipher = Cipher(algorithms.AES(key),modes.ECB())\n",
    "\n",
    "# encryption CipherContext instance\n",
    "def encrypt_ecb(data):\n",
    "    encryptor = cipher.encryptor()\n",
    "    return encryptor.update(data) + encryptor.finalize()\n",
    "\n",
    "# decrypt CipherContext instance\n",
    "def encrypt_ecb(data):\n",
    "    decryptor = cipher.decryptor()\n",
    "    return decryptor.update(data) + decryptor.finalize()"
   ]
  },
  {
   "cell_type": "code",
   "execution_count": 11,
   "metadata": {},
   "outputs": [],
   "source": [
    "import os\n",
    "# Cipher Block Chaining Mode\n",
    "def encrypt(data):\n",
    "    iv = secrets.token_bytes(16)\n",
    "    cipher = Cipher(algorithms.AES(key),modes.CBC(iv))\n",
    "    encryptor = cipher.encryptor()\n",
    "    return (encryptor.update(data) + encryptor.finalize(),iv)\n",
    "\n",
    "def decrypt(ciphertext):\n",
    "    ct,iv = ciphertext\n",
    "    cipher = Cipher(algorithms.AES(key),modes.CBC(iv))\n",
    "    decryptor = cipher.decryptor()\n",
    "    return (decryptor.update(ct) + decryptor.finalize(),iv)"
   ]
  },
  {
   "cell_type": "code",
   "execution_count": 45,
   "metadata": {},
   "outputs": [
    {
     "name": "stdout",
     "output_type": "stream",
     "text": [
      "(b'\\x05M\\xac\\x98\\xfd\\xe4\\xa0/\\n\\xd6\\xbb\\x85\\xeeu\\xc8\\x83', b'6666666666666666')\n",
      "(b'\\x05M\\xac\\x98\\xfd\\xe4\\xa0/\\n\\xd6\\xbb\\x85\\xeeu\\xc8\\x83', b'6666666666666666')\n"
     ]
    }
   ],
   "source": [
    "from cryptography.hazmat.primitives import padding\n",
    "\n",
    "padder = padding.PKCS7(128).padder()\n",
    "message = padder.update(b\"Hello there\") + padder.finalize()\n",
    "ciphertext_1 = encrypt(message)\n",
    "ciphertext_2 = encrypt(message)\n",
    "print(ciphertext_1)\n",
    "print(ciphertext_2)"
   ]
  },
  {
   "cell_type": "code",
   "execution_count": 46,
   "metadata": {},
   "outputs": [
    {
     "data": {
      "text/plain": [
       "b'Hello there\\x05\\x05\\x05\\x05\\x05'"
      ]
     },
     "execution_count": 46,
     "metadata": {},
     "output_type": "execute_result"
    }
   ],
   "source": [
    "message"
   ]
  },
  {
   "cell_type": "code",
   "execution_count": null,
   "metadata": {},
   "outputs": [],
   "source": [
    "# Galois Counter Mode (GCM) - Emulate a stream cipher\n",
    "\n",
    "def authenticated_encrypt_gcm(plaintext,associated_data):\n",
    "    iv = secrets.token_bytes(10)\n",
    "    encryptor = Cipher(algorithms.AES(key),modes.GCM(iv)).encryptor()\n",
    "    encryptor.authenticate_additional_data(associated_data)\n",
    "    ciphertext = encryptor.update(plaintext) + encryptor.finalize()\n",
    "    return (iv, ciphertext,encryptor.tag)\n",
    "\n",
    "def decrypt_with_gcm(token,associated_data):\n",
    "    iv, ciphertext,tag = token\n",
    "    decryptor = Cipher(algorithms.AES(key),modes.GCM(iv,tag)).decryptor()\n",
    "    decryptor.authenticate_additional_data(associated_data)\n",
    "    return decryptor.update(ciphertext) + decryptor.finalize()\n",
    "    "
   ]
  },
  {
   "cell_type": "code",
   "execution_count": 13,
   "metadata": {},
   "outputs": [],
   "source": [
    "ciphertext,iv = encrypt(message)"
   ]
  },
  {
   "cell_type": "code",
   "execution_count": 34,
   "metadata": {},
   "outputs": [],
   "source": [
    "cipher_file = open('cipher_file.tk','w')\n",
    "cipher_file.writelines(ciphertext.hex() + \" - \" + iv.hex())\n",
    "cipher_file.close()"
   ]
  },
  {
   "cell_type": "code",
   "execution_count": 37,
   "metadata": {},
   "outputs": [],
   "source": [
    "cipher_file = open('cipher_file.tk','r')\n",
    "token = cipher_file.readline()\n",
    "cipher_file.close()"
   ]
  },
  {
   "cell_type": "code",
   "execution_count": 39,
   "metadata": {},
   "outputs": [
    {
     "data": {
      "text/plain": [
       "['47b842bdeabd9cb465402e6ba0b37910', '36363636363636363636363636363636']"
      ]
     },
     "execution_count": 39,
     "metadata": {},
     "output_type": "execute_result"
    }
   ],
   "source": [
    "token.split(' - ')"
   ]
  },
  {
   "cell_type": "code",
   "execution_count": 47,
   "metadata": {},
   "outputs": [],
   "source": [
    "# RSA KEY GENERATION\n",
    "from cryptography.hazmat.primitives import serialization\n",
    "from cryptography.hazmat.primitives.asymmetric import rsa\n",
    "\n",
    "private_key = rsa.generate_private_key(public_exponent=65537,key_size=3072)\n",
    "public_key = private_key.public_key()"
   ]
  },
  {
   "cell_type": "code",
   "execution_count": 50,
   "metadata": {},
   "outputs": [],
   "source": [
    "private_bytes = private_key.private_bytes(encoding=serialization.Encoding.PEM,\n",
    "format=serialization.PrivateFormat.PKCS8,encryption_algorithm=serialization.NoEncryption())\n",
    "\n",
    "with open('my_private_key.pem','wb') as private_key_file:\n",
    "    private_key_file.write(private_bytes)\n",
    "\n",
    "\n"
   ]
  },
  {
   "cell_type": "code",
   "execution_count": 61,
   "metadata": {},
   "outputs": [],
   "source": [
    "public_bytes = public_key.public_bytes(encoding=serialization.Encoding.PEM,\n",
    "format=serialization.PublicFormat.SubjectPublicKeyInfo)\n",
    "\n",
    "with open('public_key_file.pem','wb') as public_key_file:\n",
    "    public_key_file.write(public_bytes)"
   ]
  },
  {
   "cell_type": "code",
   "execution_count": 55,
   "metadata": {},
   "outputs": [],
   "source": [
    "def load_key(is_private=True):\n",
    "    if is_private:\n",
    "        with open('my_private_key.pem','rb') as my_private_key:\n",
    "            return serialization.load_pem_private_key(my_private_key.read(),password=None)\n",
    "    else:\n",
    "        with open('public_key_file.pem','rb') as public_key_file:\n",
    "            return serialization.load_pem_public_key(public_key_file.read())"
   ]
  },
  {
   "cell_type": "code",
   "execution_count": 62,
   "metadata": {},
   "outputs": [],
   "source": [
    "# RSA Encryption\n",
    "# OAEP - Optional asymmetric encryption padding\n",
    "from cryptography.hazmat.primitives import hashes\n",
    "from cryptography.hazmat.primitives.asymmetric import padding\n",
    "\n",
    "padding_config = padding.OAEP(mgf=padding.MGF1(algorithm=hashes.SHA256()),algorithm=hashes.SHA256(),label=None)\n",
    "public_key_from_disk = load_key(False)\n",
    "ciphertext = public_key_from_disk.encrypt(plaintext=b\"Sample data\",padding=padding_config)"
   ]
  },
  {
   "cell_type": "code",
   "execution_count": 63,
   "metadata": {},
   "outputs": [
    {
     "data": {
      "text/plain": [
       "b'C>\\xf9\\xbeW\\x87D\\xf6\\xef\\x15*\\x8a\\x8e\\x11!1\\xe5\\xf9|\\x84_\\xc6P\\xec\\x1a\\x8c2\\xb0<\\x0fD\\xb4(V\\xa7%(\\xd1\\xc2L\\xee\\x83\\x84\\x9f\\xf1\\x17\\x15\\xe5s\\x02k\\xc0yC\\r\\xe5\\xb5I\\xdc\\xe1\\x14V1\\xe3h\"\\xe1\\x84\\x0f\\xa7$\\xdfb\\x82=\\x03\\x0ff]@M\\xf6WL\\xae\\xa9s&c\\xac\\x13\\xf2\\x1c\\xb3\\x1fv\\xd0\\xbaS\\xa6\\x10i\\xe8\\xef\\xf6a6\\x1c\\x9b\\x93C\\x95\\xc4\\x91~>\\x94\\xd7\\xea\\x07\\xb9\\xbd\\xe6\\xebqG\\xba61\\xad\\xfb\\xb2k\\xdf%\\xe0\\xf6\\xdf\\xc7\\xb7\\xaa\\xb7\\x00\\xa0\\x08\\xfd)$/\\xeb\\xec\\xf3\\xe7\\xda\\x1f\\xfc\\xa0W\\xa9\\xd2\\xec\\x01 \\x11\\xea\\x18\\x0e\\x8b\\xffg\\xdfJ\\x01h\\x93eR \\x17P\\x03<\\x8c\\xcc\\xc3/\\x8d\\xfa\\xefI\\x07~\\x1b+<2\\xf9\\x03\\x07>6\\xe0\\xf8\\x94\\xab\\x1fS\\xb4L\\t\\xbb\\n\\xe3\\xb1J\\x9f\\xe2\\xda\\xe9\\xa3\\xe4)\\x8d94\\xadI\\xf9^\\xc1\\xc4*\\x08\\xdf\\x11\\xfc\\x84\\x1f>a\\x14\\xed\\xe6\\xaa\\x1aLX\\x92\\xc7\\xaeUb\\x1f\\xce\\xc0}\\xfe\\xa9\\xdc\\x1c\\x04\\xb1\\x02\\xdd.\\xc4\\xe4\\xc0\\n\\x1co\"Yz}\\x8a]\\xece\\xf1^p\\x11r\\x10\\xa1\\x8ezB4u\\xac\\xa3\\x803F4\\xccw\\xcb\\xd6\\xc6\\xd7\\xd8\\x005\\xa2\\x05FnIC\\x1dN\\xc5\\xfa\\xf8\\xf8\\xe85rQ1\\xc7\\x9fBI\\xa7\\x88\\xaf\\x19\\xe0\\x11\\xc2\\xc0\\xf4\\xea\\xa2\\xe2\\xfdZ\\x84\\x9b\\xf53\\x1d\\xfd\\xb3lUg7\\x84\\xdc\\x96\\xf2\\x19\\x12\\xcf\\xe3\\x8f\\'\\x90.7\\x97\\xf51O\\x7f\\x8a)n\\xa1\\xfb\\xa4*jK\\xab\\xb5v\\x9e\\xda'"
      ]
     },
     "execution_count": 63,
     "metadata": {},
     "output_type": "execute_result"
    }
   ],
   "source": [
    "ciphertext"
   ]
  },
  {
   "cell_type": "code",
   "execution_count": 64,
   "metadata": {},
   "outputs": [
    {
     "data": {
      "text/plain": [
       "b'Sample data'"
      ]
     },
     "execution_count": 64,
     "metadata": {},
     "output_type": "execute_result"
    }
   ],
   "source": [
    "# Decrypt with private key\n",
    "load_key().decrypt(ciphertext=ciphertext,padding=padding_config)"
   ]
  }
 ],
 "metadata": {
  "kernelspec": {
   "display_name": "Python 3.10.2 64-bit",
   "language": "python",
   "name": "python3"
  },
  "language_info": {
   "codemirror_mode": {
    "name": "ipython",
    "version": 3
   },
   "file_extension": ".py",
   "mimetype": "text/x-python",
   "name": "python",
   "nbconvert_exporter": "python",
   "pygments_lexer": "ipython3",
   "version": "3.10.2"
  },
  "orig_nbformat": 4,
  "vscode": {
   "interpreter": {
    "hash": "8ef4f7d30ada8ac0734772085998dc737c9d06b351fea519132b7e10080fcd18"
   }
  }
 },
 "nbformat": 4,
 "nbformat_minor": 2
}
