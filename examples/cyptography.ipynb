{
 "cells": [
  {
   "cell_type": "code",
   "execution_count": 6,
   "metadata": {},
   "outputs": [
    {
     "name": "stdout",
     "output_type": "stream",
     "text": [
      "4926471693189134924\n"
     ]
    }
   ],
   "source": [
    "#HASHING WITH BUILT-IN hash()\n",
    "import json\n",
    "import numpy as np\n",
    "\n",
    "grades = list(range(5))\n",
    "mean = np.mean(grades)\n",
    "above_average = [\"Yes\" if x > mean else \"No\" for x in grades]\n",
    "message = {\"grades\": grades, \"above average\": above_average}\n",
    "hash_value = hash(json.dumps(message))\n",
    "print(hash_value)"
   ]
  },
  {
   "cell_type": "code",
   "execution_count": 6,
   "metadata": {},
   "outputs": [
    {
     "name": "stdout",
     "output_type": "stream",
     "text": [
      "4414228952474833747\n"
     ]
    }
   ],
   "source": [
    "message = [x for x in range(10)]\n",
    "hash_value = hash(json.dumps(message))\n",
    "print(hash_value)"
   ]
  },
  {
   "cell_type": "code",
   "execution_count": 1,
   "metadata": {},
   "outputs": [
    {
     "name": "stdout",
     "output_type": "stream",
     "text": [
      "{'sha3_256', 'sha256', 'sha3_512', 'shake_128', 'sha224', 'sha512', 'blake2b', 'shake_256', 'md5', 'sha3_224', 'blake2s', 'sha1', 'sha3_384', 'sha384'}\n"
     ]
    }
   ],
   "source": [
    "import hashlib\n",
    "\n",
    "print(hashlib.algorithms_guaranteed)"
   ]
  },
  {
   "cell_type": "code",
   "execution_count": 2,
   "metadata": {},
   "outputs": [
    {
     "name": "stdout",
     "output_type": "stream",
     "text": [
      "{'sha3_256', 'sha3_512', 'sha224', 'md5-sha1', 'whirlpool', 'sha3_224', 'sha384', 'sha256', 'shake_128', 'sha512', 'ripemd160', 'md5', 'sm3', 'md4', 'blake2b', 'shake_256', 'sha512_224', 'blake2s', 'sha1', 'sha3_384', 'sha512_256', 'mdc2'}\n"
     ]
    }
   ],
   "source": [
    "print(hashlib.algorithms_available)"
   ]
  },
  {
   "cell_type": "code",
   "execution_count": 10,
   "metadata": {},
   "outputs": [
    {
     "name": "stdout",
     "output_type": "stream",
     "text": [
      "b'\\x08\\xbb^]n\\xaa\\xc1\\x04\\x9e\\xde\\x08\\x93\\xd3\\x0e\\xd0\"\\xb1\\xa4\\xd9\\xb5\\xb4\\x8d\\xb4\\x14\\x87\\x1fQ\\xc9\\xcb5(='\n"
     ]
    }
   ],
   "source": [
    "from hashlib import sha256\n",
    "#Message must be bytes\n",
    "data = bytes(list(range(5)))\n",
    "hash_function = sha256(data)\n",
    "digest = hash_function.digest()\n",
    "print(digest)"
   ]
  },
  {
   "cell_type": "code",
   "execution_count": 17,
   "metadata": {},
   "outputs": [
    {
     "data": {
      "text/plain": [
       "True"
      ]
     },
     "execution_count": 17,
     "metadata": {},
     "output_type": "execute_result"
    }
   ],
   "source": [
    "#CHECKSUM\n",
    "import zlib\n",
    "import pandas as pd\n",
    "import json\n",
    "\n",
    "datatset = json.dumps(pd.read_csv('./demo.csv')\\\n",
    "    .to_dict(orient=\"records\"))\n",
    "\n",
    "data = str.encode(datatset)\n",
    "\n",
    "checksum = zlib.crc32(data)\n",
    "compressed = zlib.compress(data)\n",
    "decompressed = zlib.decompress(compressed)\n",
    "\n",
    "zlib.crc32(decompressed) == checksum"
   ]
  },
  {
   "cell_type": "code",
   "execution_count": 18,
   "metadata": {},
   "outputs": [
    {
     "data": {
      "text/plain": [
       "b'\\x15\\xa6\\x1c\\x15o7~\\x8e\\x05\\x0b\\x03=\\x03\\x1c\\xabH'"
      ]
     },
     "execution_count": 18,
     "metadata": {},
     "output_type": "execute_result"
    }
   ],
   "source": [
    "#Key Hashing\n",
    "\n",
    "#Random numbers\n",
    "\n",
    "import os\n",
    "os.urandom(16)"
   ]
  },
  {
   "cell_type": "code",
   "execution_count": 19,
   "metadata": {},
   "outputs": [
    {
     "name": "stdout",
     "output_type": "stream",
     "text": [
      "b\"\\x94-'\\x90$[\\x9bV\\x1bq\\x83E<+\\x8b\\xba\"\n",
      "814c4b96200cff91f5d93b41660d28ce\n",
      "mff224Bb0NS8rNorIL0hPQ\n"
     ]
    }
   ],
   "source": [
    "from secrets import token_bytes, token_hex, token_urlsafe\n",
    "\n",
    "print(token_bytes(16))\n",
    "\n",
    "print(token_hex(16))\n",
    "\n",
    "print(token_urlsafe(16))"
   ]
  },
  {
   "cell_type": "code",
   "execution_count": 20,
   "metadata": {},
   "outputs": [
    {
     "name": "stdout",
     "output_type": "stream",
     "text": [
      "user bike people\n"
     ]
    }
   ],
   "source": [
    "#Passphrase\n",
    "import secrets\n",
    "\n",
    "words = ['data','user','people','california','bike','tesla']\n",
    "passphrases = ' '.join(secrets.choice(words) for i in range(3))\n",
    "print(passphrases)"
   ]
  },
  {
   "cell_type": "code",
   "execution_count": 21,
   "metadata": {},
   "outputs": [
    {
     "name": "stdout",
     "output_type": "stream",
     "text": [
      "b'\\x08\\xb6\\x1a\\xa1\\x1f\\x00\\xcb\\x17 \\xca\\xbf\\xff\\xda\\x1f\\xc8#\\xcc,f}\\xeb\\xe3\\x80=R\\xe1\\xee\\xe2\\xdf\\xfa*Y\\x95b\\x10DX\\x1a\\x07;\\x89Q\\xb6\\xd3\\xa4\\xd0s\\x8aZo\\xf1\\xd0\\xe2\\x15)\\xe8\\xa3\\x04\\xdeuq\\x15\\xd1\\x9b'\n"
     ]
    }
   ],
   "source": [
    "#keyed hashing\n",
    "from hashlib import blake2b\n",
    "\n",
    "key = os.urandom(16)\n",
    "message = bytes(list(range(10)))\n",
    "\n",
    "digest = blake2b(message,key=key).digest()\n",
    "print(digest)"
   ]
  },
  {
   "cell_type": "code",
   "execution_count": 22,
   "metadata": {},
   "outputs": [
    {
     "name": "stdout",
     "output_type": "stream",
     "text": [
      "b'\\xab\\x10\\n\\xbe\\xf1\\xa9\\xd9\\xe0\\x0c/I\\xe4\\xd2h-\\x1fp\\x8d\\xbe\\xe6\\x8ey\\x9d,3\\xbb\\xf5\\xc0\\xa6r\\x82\\x8e'\n"
     ]
    }
   ],
   "source": [
    "#hmac\n",
    "import hmac\n",
    "import hashlib\n",
    "\n",
    "key = os.urandom(16)\n",
    "message = bytes(list(range(10)))\n",
    "hmac_sha256 = hmac.new(key, message,hashlib.sha256)\n",
    "\n",
    "print(hmac_sha256.digest())"
   ]
  },
  {
   "cell_type": "code",
   "execution_count": 23,
   "metadata": {},
   "outputs": [
    {
     "data": {
      "text/plain": [
       "False"
      ]
     },
     "execution_count": 23,
     "metadata": {},
     "output_type": "execute_result"
    }
   ],
   "source": [
    "from hmac import compare_digest\n",
    "\n",
    "compare_digest(b'Digest A',b'Digest B')"
   ]
  },
  {
   "cell_type": "code",
   "execution_count": 25,
   "metadata": {},
   "outputs": [
    {
     "name": "stdout",
     "output_type": "stream",
     "text": [
      "b'lOrrakLBUEbpTt1Nf7NOs7cJv17IAjL9ktBcRBJfK7M='\n",
      "b'gAAAAABiYuRGiM41misOVIx3y9-WXgIT5LF0oHkX-aO-nSdDR-fUoLyd7mMWjb9B_LLonTKSTPa1VPmoL5CINVb1G3IRx2u5EQ=='\n"
     ]
    },
    {
     "data": {
      "text/plain": [
       "[0, 1, 2, 3, 4, 5, 6, 7, 8, 9]"
      ]
     },
     "execution_count": 25,
     "metadata": {},
     "output_type": "execute_result"
    }
   ],
   "source": [
    "from cryptography.fernet import Fernet\n",
    "\n",
    "key = Fernet.generate_key()\n",
    "print(key)\n",
    "fernet = Fernet(key)\n",
    "\n",
    "token = fernet.encrypt(bytes(list(range(10))))\n",
    "\n",
    "print(token)\n",
    "\n",
    "list(bytes(fernet.decrypt(token)))"
   ]
  },
  {
   "cell_type": "code",
   "execution_count": 26,
   "metadata": {},
   "outputs": [],
   "source": [
    "#Key Rotation\n",
    "\n",
    "from cryptography.fernet import Fernet, MultiFernet\n",
    "\n",
    "old_key = key #Read from a secure keystore\n",
    "old_fernet = Fernet(old_key)\n",
    "\n",
    "new_key = Fernet.generate_key()\n",
    "new_fernet = Fernet(new_key)\n",
    "\n",
    "multi_fernet = MultiFernet([new_fernet,old_fernet])\n",
    "old_token = token\n",
    "new_token = multi_fernet.rotate(old_token)"
   ]
  },
  {
   "cell_type": "code",
   "execution_count": 36,
   "metadata": {},
   "outputs": [
    {
     "name": "stdout",
     "output_type": "stream",
     "text": [
      "b\"'\\xfb?P\\x103\\x89T\\xd8R\\x96-\\x15p,\\xf6\"\n"
     ]
    }
   ],
   "source": [
    "#Cipher Block Chaining Mode\n",
    "\n",
    "import secrets\n",
    "import random\n",
    "from cryptography.hazmat.backends import default_backend\n",
    "from cryptography.hazmat.primitives.ciphers import Cipher,algorithms,modes\n",
    "\n",
    "key = b'1288398383812883'\n",
    "\n",
    "iv = secrets.token_bytes(16)\n",
    "cipher = Cipher(algorithms.AES(key),modes.CBC(iv),backend = default_backend()).encryptor()\n",
    "\n",
    "data = b'Sample plaintext'\n",
    "ciphertext = cipher.update(data) + cipher.finalize()\n",
    "print(ciphertext)\n"
   ]
  },
  {
   "cell_type": "code",
   "execution_count": 2,
   "metadata": {},
   "outputs": [],
   "source": [
    "#RSA Public Key Encryption\n",
    "from cryptography.hazmat.backends import default_backend\n",
    "from cryptography.hazmat.primitives import serialization\n",
    "from cryptography.hazmat.primitives.asymmetric import rsa\n",
    "\n",
    "private_key = rsa.generate_private_key(public_exponent=65537,key_size=3072,backend=default_backend())\n",
    "public_key = private_key.public_key() #Use openssl or ssh-keygen for production key generation\n",
    "\n",
    "#Serialize keys to PEM format\n",
    "private_bytes = private_key.private_bytes(encoding=serialization.Encoding.PEM,\n",
    "format=serialization.PrivateFormat.PKCS8,encryption_algorithm=serialization.NoEncryption())\n",
    "\n",
    "public_bytes = public_key.public_bytes(encoding=serialization.Encoding.PEM,\n",
    "format=serialization.PublicFormat.SubjectPublicKeyInfo)\n",
    "\n",
    "#Save keys to file system\n",
    "with open('private_key.pem', 'xb') as private_key_file:\n",
    "    private_key_file.write(private_bytes)\n",
    "\n",
    "with open('public_key.pem','xb') as public_key_file:\n",
    "    public_key_file.write(public_bytes)\n",
    "\n"
   ]
  },
  {
   "cell_type": "code",
   "execution_count": 8,
   "metadata": {},
   "outputs": [],
   "source": [
    "#Load keys into memory from file system\n",
    "def load_pem_private_key():\n",
    "    with open('private_key.pem','rb') as private_file:\n",
    "        loaded_private_key = serialization.load_pem_private_key(private_file.read(),password=None,backend=default_backend())\n",
    "    return loaded_private_key"
   ]
  },
  {
   "cell_type": "code",
   "execution_count": 7,
   "metadata": {},
   "outputs": [
    {
     "name": "stdout",
     "output_type": "stream",
     "text": [
      "True\n"
     ]
    }
   ],
   "source": [
    "#Encryption and descryption with RSA\n",
    "#RSA encrypts data with a padding scheme\n",
    "from cryptography.hazmat.primitives import hashes\n",
    "from cryptography.hazmat.primitives.asymmetric import padding\n",
    "\n",
    "padding_config = padding.OAEP(mgf=padding.MGF1(algorithm=hashes.SHA256()),algorithm=hashes.SHA256(),label=None)\n",
    "\n",
    "data = b'Sample input'\n",
    "ciphertext = public_key.encrypt(data,padding_config)\n",
    "\n",
    "deciphered_text = private_key.decrypt(ciphertext,padding_config)\n",
    "\n",
    "print(data == deciphered_text)"
   ]
  },
  {
   "cell_type": "code",
   "execution_count": 10,
   "metadata": {},
   "outputs": [
    {
     "name": "stdout",
     "output_type": "stream",
     "text": [
      "{\"message\": [84, 101, 115, 116, 32, 109, 101, 115, 115, 97, 103, 101], \"signature\": [49, 165, 27, 106, 239, 91, 228, 3, 122, 143, 49, 56, 92, 179, 121, 84, 93, 89, 104, 54, 127, 115, 201, 245, 180, 43, 17, 237, 222, 131, 147, 37, 100, 122, 94, 90, 192, 210, 12, 152, 105, 172, 142, 128, 91, 226, 232, 230, 186, 13, 255, 114, 234, 12, 172, 224, 6, 117, 58, 141, 183, 92, 151, 182, 45, 82, 132, 44, 113, 59, 178, 92, 23, 205, 145, 188, 247, 43, 165, 104, 107, 229, 62, 0, 175, 45, 188, 223, 25, 57, 94, 93, 146, 42, 125, 130, 47, 195, 22, 39, 172, 209, 152, 214, 130, 113, 249, 45, 226, 143, 234, 58, 176, 197, 76, 191, 69, 216, 80, 212, 56, 162, 22, 241, 230, 137, 235, 143, 23, 248, 168, 69, 164, 155, 233, 61, 189, 92, 97, 15, 45, 66, 6, 74, 17, 180, 195, 70, 85, 77, 58, 180, 65, 242, 157, 27, 105, 169, 230, 190, 71, 17, 125, 41, 2, 67, 211, 156, 236, 120, 4, 250, 203, 246, 40, 126, 45, 203, 122, 44, 234, 115, 195, 45, 203, 211, 133, 57, 224, 99, 164, 157, 190, 147, 255, 43, 137, 155, 199, 127, 193, 127, 247, 91, 188, 12, 203, 227, 114, 176, 66, 162, 7, 84, 175, 149, 49, 118, 100, 51, 252, 162, 173, 121, 65, 215, 60, 191, 175, 251, 124, 135, 87, 72, 29, 246, 248, 187, 243, 219, 116, 80, 193, 150, 253, 21, 218, 37, 215, 238, 150, 206, 98, 171, 142, 199, 112, 181, 170, 17, 75, 171, 59, 75, 139, 114, 84, 171, 237, 186, 135, 8, 3, 156, 191, 250, 156, 44, 87, 68, 169, 133, 72, 14, 207, 127, 201, 17, 79, 71, 211, 92, 61, 166, 235, 145, 138, 147, 151, 9, 55, 170, 210, 61, 221, 77, 44, 189, 239, 71, 233, 87, 151, 72, 3, 91, 230, 83, 246, 132, 16, 95, 34, 204, 38, 2, 42, 190, 127, 106, 92, 28, 237, 141, 120, 103, 188, 190, 249, 2, 158, 221, 173, 37, 212, 9, 188, 47, 64, 22, 159, 233, 171, 216, 237, 101, 2, 40, 143, 231, 40, 169, 153, 45, 77, 207, 112, 49, 79, 120, 60, 155, 246, 44, 242, 246, 27, 70, 245, 203, 11, 86, 168, 62]}\n"
     ]
    }
   ],
   "source": [
    "#Digital Signatures\n",
    "import json\n",
    "from cryptography.hazmat.primitives.asymmetric import padding\n",
    "from cryptography.hazmat.primitives import hashes\n",
    "\n",
    "message = b'Test message'\n",
    "padding_config = padding.PSS(mgf=padding.MGF1(hashes.SHA256()),\n",
    "salt_length=padding.PSS.MAX_LENGTH)\n",
    "\n",
    "#Sign with RSA private key and hash with SHA256\n",
    "private_key = load_pem_private_key()\n",
    "\n",
    "signature = private_key.sign(message,\n",
    "padding_config,hashes.SHA256())\n",
    "\n",
    "signed_message = {'message':list(message),\n",
    "'signature':list(signature)}\n",
    "\n",
    "print(json.dumps(signed_message))\n"
   ]
  }
 ],
 "metadata": {
  "interpreter": {
   "hash": "e3aa6b6490ac125701d1af7049020ff43ba2cd7e14a26ec704c771bb9479677a"
  },
  "kernelspec": {
   "display_name": "Python 3.10.2 64-bit",
   "language": "python",
   "name": "python3"
  },
  "language_info": {
   "codemirror_mode": {
    "name": "ipython",
    "version": 3
   },
   "file_extension": ".py",
   "mimetype": "text/x-python",
   "name": "python",
   "nbconvert_exporter": "python",
   "pygments_lexer": "ipython3",
   "version": "3.8.8"
  },
  "orig_nbformat": 4
 },
 "nbformat": 4,
 "nbformat_minor": 2
}
